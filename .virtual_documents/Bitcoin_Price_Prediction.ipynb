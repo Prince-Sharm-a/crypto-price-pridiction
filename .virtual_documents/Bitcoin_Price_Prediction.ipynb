pip install yfinance


import yfinance as yf
import pandas as pd
import numpy as np
import matplotlib.pyplot as plt
from datetime import datetime
plt.style.use('fivethirtyeight')


end=datetime.now()
start=datetime(end.year-15,end.month,end.day)
stock= 'BTC-USD'
sd=yf.download(stock,start=start,end=end)


sd.head()


sd.tail()


sd.describe()


sd.info()


sd.columns


#close price data
cp=sd[['Close']]
cp


for i in cp.index.date:
    # if i=='2018':
    print(type(str(i)))
    # else :
        # print("no")


data_2018=[]
for i in cp.index:
    if str(i.year) == '2018':
        print(cp['Close'].)


data_2018=cp[cp.index.year==2018]
data_2018


plt.figure(figsize=(15,6))
plt.plot(data_2018.index,data_2018['Close'],label='Close Price',color='blue',linewidth=2)
plt.title("Close price of bitcoin in 2018",fontsize=16)
plt.xlabel("Months",fontsize=14)
plt.ylabel("Close Price",fontsize=14)
plt.grid(alpha=0.2)
plt.legend(fontsize=12)
plt.show()


data_2017=cp[cp.index.year==2017]
data_2017


plt.figure(figsize=(15,6))
plt.plot(data_2017.index,data_2017['Close'],label='Close Price',color='blue',linewidth=2)
plt.title("Close price of bitcoin in 2017",fontsize=16)
plt.xlabel("Months",fontsize=14)
plt.ylabel("Close Price",fontsize=14)
plt.grid(alpha=0.2)
plt.legend(fontsize=12)
plt.show()


data_2021=cp[cp.index.year==2021]
data_2020=cp[cp.index.year==2020]


plt.figure(figsize=(15,6))
plt.plot(data_2021.index,data_2021['Close'],label='Close Price',color='blue',linewidth=2)
plt.title("Close price of bitcoin in 2017",fontsize=16)
plt.xlabel("Months",fontsize=14)
plt.ylabel("Close Price",fontsize=14)
plt.grid(alpha=0.2)
plt.legend(fontsize=12)
plt.show()





#Plot closing price with enhancement
plt.figure(figsize=(15,6))
plt.plot(cp.index,cp['Close'],label='Close Price',color='blue',linewidth=2)
plt.title("Close price of bitcoin over time",fontsize=16)
plt.xlabel("Years",fontsize=14)
plt.ylabel("Close Price",fontsize=14)
plt.grid(alpha=0.2)
plt.legend(fontsize=12)
plt.show()


# Moving Average
temp_data=[10,20,30,40,50,60,70,80,90,100]
# moving average for 5 day ->null null null null 30.0 40.0
print(sum(temp_data[1:6])/5)


df1=pd.DataFrame(temp_data)


df1.rolling(5).mean()


for i in range(2014,2024):
    print(i,list(sd.index.year).count(i))


cp['MA_365']=cp['Close'].rolling(window=365).mean()
cp['MA_100']=cp['Close'].rolling(window=100).mean()


#Plot closing price with enhancement
plt.figure(figsize=(15,6))
plt.plot(cp.index,cp['Close'],label='Close Price',color='blue',linewidth=2)
plt.plot(cp.index,cp['MA_365'],label='365 Days Moving Average',color='red',linestyle='--',linewidth=2)
plt.plot(cp.index,cp['MA_100'],label='100 Days Moving Average',color='green',linestyle=':',linewidth=2)
plt.title("Close price of bitcoin over time",fontsize=16)
plt.xlabel("Years",fontsize=14)
plt.ylabel("Close Price",fontsize=14)
plt.grid(alpha=0.2)
plt.legend(fontsize=12)
plt.show()


# LSTM -> Long short term memory.
# Scale the data
from sklearn.preprocessing import MinMaxScaler
scaler= MinMaxScaler(feature_range=(0,1))
scaled_data=scaler.fit_transform(cp[['Close']].dropna())


scaled_data


from keras.models import Sequential
from keras.layers import Dense,LSTM


# Prepare data for listm
x_data=[]
y_data=[]
base_days=100
for i in range(base_days,len(scaled_data)):
    x_data.append(scaled_data[i-base_days: i])
    y_data.append(scaled_data[i])
x_data=np.array(x_data)
y_data=np.array(y_data)


# Split into train and test sets
train_size=int(len(x_data)*0.9)
x_train,y_train=x_data[:train_size],y_data[:train_size]
x_test,y_test=x_data[train_size:],y_data[train_size:]


model=Sequential([LSTM(128,return_sequences=True,input_shape=(x_train.shape[1],1)),
                 LSTM(64,return_sequences=False),
                 Dense(25),
                 Dense(1)
])
model.compile(optimizer="adam",loss="mean_squared_error")
model.summary()


model.fit(x_train,y_train,batch_size=5,epochs=10)


predictions=model.predict(x_test)
inv_predictions=scaler.inverse_transform(predictions)
inv_y_test=scaler.inverse_transform(y_test)


plotting_data=pd.DataFrame(
    {
        'Original': inv_y_test.flatten(),
        'Prediction': inv_predictions.flatten()
    },
    index=cp.index[train_size+base_days:]
)


plt.figure(figsize=(15,6))
plt.plot(plotting_data.index,plotting_data['Original'],label='Close Price',color='blue',linewidth=1)
plt.plot(plotting_data.index,plotting_data['Prediction'],label='Prediction',color='red',linewidth=1)

plt.title("Prediction vs Actual Close Price",fontsize=16)
plt.xlabel("Years",fontsize=14)
plt.ylabel("Close Price",fontsize=14)
plt.grid(alpha=0.3)
plt.legend(fontsize=12)
plt.show()


# Predict future days
last_100 = scaled_data[-100:].reshape(1,-1,1)
future_predictions=[]

for _ in range(10):
    next_days=model.predict(last_100)
    future_predictions.append(scaler.inverse_transform(next_days))
    last_100=np.append(last_100[:,1:,:],next_days.reshape(1,1,-1),axis=1)


last_100


future_predictions


future_predictions=np.array(future_predictions).flatten()

plt.figure(figsize=(15,6))
plt.plot(range(1,11),future_predictions,marker="o",label="Prediction Future Prices",color='purple',linewidth=1)
for i,val in enumerate(future_predictions):
    plt.text(i+1,val,f'{val:.2f}',fontsize=10,ha='center',va='bottom',color='black')

plt.title(F"Future Close Prices for 10 Days",fontsize=16)
plt.xlabel("Day Ahead",fontsize=14)
plt.ylabel("Close Price", fontsize=14)
plt.grid(alpha=0.3)
plt.legend(fontsize=10)
plt.show()


model.save("model.keras")


from flask import Flask, render_template, request, redirect, url_for
import pandas as pd
import numpy as np
import yfinance as yf
from keras.models import load_model
from sklearn.preprocessing import MinMaxScaler
import matplotlib
import matplotlib.pyplot as plt
import io
import base64
from datetime import datetime

# Set Matplotlib to non-interactive backend
matplotlib.use('Agg')

app = Flask(__name__)

# Load Pre-trained Model
model = load_model("model.keras")

# Helper Function to Convert Matplotlib Plots to HTML
def plot_to_html(fig):
    buf = io.BytesIO()
    fig.savefig(buf, format="png")
    buf.seek(0)
    data = base64.b64encode(buf.getbuffer()).decode("ascii")
    buf.close()
    return f"data:image/png;base64,{data}"

@app.route("/", methods=["GET", "POST"])
def index():
    if request.method == "POST":
        stock = request.form.get("stock")
        no_of_days = int(request.form.get("no_of_days"))
        return redirect(url_for("predict", stock=stock, no_of_days=no_of_days))
    return render_template("index.html")

@app.route("/predict")
def predict():
    stock = request.args.get("stock", "BTC-USD")
    no_of_days = int(request.args.get("no_of_days", 10))

    # Fetch Stock Data
    end = datetime.now()
    start = datetime(end.year - 10, end.month, end.day)
    stock_data = yf.download(stock, start, end)
    if stock_data.empty:
        return render_template("result.html", error="Invalid stock ticker or no data available.")

    # Data Preparation
    splitting_len = int(len(stock_data) * 0.9)
    x_test = stock_data[['Close']][splitting_len:]
    scaler = MinMaxScaler(feature_range=(0, 1))
    scaled_data = scaler.fit_transform(x_test)

    x_data = []
    y_data = []
    for i in range(100, len(scaled_data)):
        x_data.append(scaled_data[i - 100:i])
        y_data.append(scaled_data[i])

    x_data = np.array(x_data)
    y_data = np.array(y_data)

    # Predictions
    predictions = model.predict(x_data)
    inv_predictions = scaler.inverse_transform(predictions)
    inv_y_test = scaler.inverse_transform(y_data)

    # Prepare Data for Plotting
    plotting_data = pd.DataFrame({
        'Original Test Data': inv_y_test.flatten(),
        'Predicted Test Data': inv_predictions.flatten()
    }, index=x_test.index[100:])

    # Generate Plots
    # Plot 1: Original Closing Prices
    fig1 = plt.figure(figsize=(15, 6))
    plt.plot(stock_data['Close'], 'b', label='Close Price')
    plt.title("Closing Prices Over Time")
    plt.xlabel("Date")
    plt.ylabel("Close Price")
    plt.legend()
    original_plot = plot_to_html(fig1)

    # Plot 2: Original vs Predicted Test Data
    fig2 = plt.figure(figsize=(15, 6))
    plt.plot(plotting_data['Original Test Data'], label="Original Test Data")
    plt.plot(plotting_data['Predicted Test Data'], label="Predicted Test Data", linestyle="--")
    plt.legend()
    plt.title("Original vs Predicted Closing Prices")
    plt.xlabel("Date")
    plt.ylabel("Close Price")
    predicted_plot = plot_to_html(fig2)

    # Plot 3: Future Predictions
    last_100 = stock_data[['Close']].tail(100)
    last_100_scaled = scaler.transform(last_100)

    future_predictions = []
    last_100_scaled = last_100_scaled.reshape(1, -1, 1)
    for _ in range(no_of_days):
        next_day = model.predict(last_100_scaled)
        future_predictions.append(scaler.inverse_transform(next_day))
        last_100_scaled = np.append(last_100_scaled[:, 1:, :], next_day.reshape(1, 1, -1), axis=1)

    future_predictions = np.array(future_predictions).flatten()

    fig3 = plt.figure(figsize=(15, 6))
    plt.plot(range(1, no_of_days + 1), future_predictions, marker='o', label="Predicted Future Prices", color="purple")
    plt.title("Future Close Price Predictions")
    plt.xlabel("Days Ahead")
    plt.ylabel("Predicted Close Price")
    plt.grid(alpha=0.3)
    plt.legend()
    future_plot = plot_to_html(fig3)

    return render_template(
        "result.html",
        stock=stock,
        original_plot=original_plot,
        predicted_plot=predicted_plot,
        future_plot=future_plot,
        enumerate =enumerate,
        future_predictions=future_predictions
    )

if __name__ == "__main__":
    app.run(debug=True)

